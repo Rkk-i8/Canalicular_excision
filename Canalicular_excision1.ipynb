{
  "nbformat": 4,
  "nbformat_minor": 0,
  "metadata": {
    "colab": {
      "provenance": [],
      "authorship_tag": "ABX9TyOm8wbLCdPUYSTY55A9pFYw",
      "include_colab_link": true
    },
    "kernelspec": {
      "name": "python3",
      "display_name": "Python 3"
    },
    "language_info": {
      "name": "python"
    }
  },
  "cells": [
    {
      "cell_type": "markdown",
      "metadata": {
        "id": "view-in-github",
        "colab_type": "text"
      },
      "source": [
        "<a href=\"https://colab.research.google.com/github/Rkk-i8/Canalicular_excision/blob/main/Canalicular_excision1.ipynb\" target=\"_parent\"><img src=\"https://colab.research.google.com/assets/colab-badge.svg\" alt=\"Open In Colab\"/></a>"
      ]
    },
    {
      "cell_type": "code",
      "source": [
        "# ❶ Google Drive をマウント\n",
        "from google.colab import drive\n",
        "drive.mount('/content/drive')\n",
        "\n",
        "# ❷ 必要なライブラリのインポート\n",
        "import pandas as pd\n",
        "from scipy.stats import mannwhitneyu\n",
        "\n",
        "# ❸ Excel ファイルの読み込み\n",
        "file_path = \"/content/drive/Shareddrives/岩崎Dr_IgG4 deulk/涙小管切断術/Canalicular Occlusion.xlsx\"\n",
        "df_all = pd.read_excel(file_path, sheet_name='all')\n",
        "\n",
        "# ❹ Fluo_5area_12M による群分け\n",
        "# 良好群：Fluo_5area_12M ≦ 3、遷延群：Fluo_5area_12M ≧ 4\n",
        "df_all['group'] = df_all['Fluo_5area_12M'].apply(lambda x: '遷延群' if x >= 4 else ('良好群' if x <= 3 else None))\n",
        "\n",
        "# ❺ 群ごとの眼数を表示\n",
        "group_counts = df_all['group'].value_counts()\n",
        "print(\"■ 群ごとの眼数\")\n",
        "print(group_counts, \"\\n\")\n",
        "\n",
        "# ❻ 対象とする4項目\n",
        "target_cols = ['Schirmer 1_pre', 'Fluo_5area_pre', 'TM_mm_pre', 'TM_mm_12M']\n",
        "\n",
        "# ❼ 中央値 [IQR] の計算関数\n",
        "def median_iqr(series):\n",
        "    q1 = series.quantile(0.25)\n",
        "    median = series.median()\n",
        "    q3 = series.quantile(0.75)\n",
        "    return f\"{median:.3f} [{q1:.3f}–{q3:.3f}]\"\n",
        "\n",
        "# ❽ 良好群・遷延群それぞれの中央値 [IQR]\n",
        "formatted_stats = {}\n",
        "for group in ['良好群', '遷延群']:\n",
        "    group_data = df_all[df_all['group'] == group]\n",
        "    formatted_stats[group] = {col: median_iqr(group_data[col].dropna()) for col in target_cols}\n",
        "\n",
        "# ❾ 表形式で表示\n",
        "median_iqr_table = pd.DataFrame(formatted_stats).T[target_cols]\n",
        "print(\"■ 各群の中央値 [IQR]\")\n",
        "print(median_iqr_table.to_string(), \"\\n\")\n",
        "\n",
        "# ➓ Mann-Whitney U検定による2群間比較\n",
        "stat_results = {}\n",
        "for col in target_cols:\n",
        "    group1 = df_all[df_all['group'] == '良好群'][col].dropna()\n",
        "    group2 = df_all[df_all['group'] == '遷延群'][col].dropna()\n",
        "    stat, p_value = mannwhitneyu(group1, group2, alternative='two-sided')\n",
        "    stat_results[col] = {'U Statistic': stat, 'p-value': p_value}\n",
        "\n",
        "# 結果をデータフレーム化して表示\n",
        "stat_results_df = pd.DataFrame(stat_results).T\n",
        "print(\"■ Mann-Whitney U検定の結果\")\n",
        "print(stat_results_df)\n"
      ],
      "metadata": {
        "id": "qmmATWo7qZMQ",
        "outputId": "fdae5157-a4f3-45f6-e86a-82df0b845924",
        "colab": {
          "base_uri": "https://localhost:8080/"
        }
      },
      "execution_count": 2,
      "outputs": [
        {
          "output_type": "stream",
          "name": "stdout",
          "text": [
            "Drive already mounted at /content/drive; to attempt to forcibly remount, call drive.mount(\"/content/drive\", force_remount=True).\n",
            "■ 群ごとの眼数\n",
            "group\n",
            "遷延群    20\n",
            "良好群    14\n",
            "Name: count, dtype: int64 \n",
            "\n",
            "■ 各群の中央値 [IQR]\n",
            "          Schirmer 1_pre         Fluo_5area_pre            TM_mm_pre            TM_mm_12M\n",
            "良好群  1.500 [1.000–3.000]    7.500 [3.500–8.750]  0.131 [0.098–0.171]  0.232 [0.185–0.329]\n",
            "遷延群  2.500 [2.000–4.000]  11.000 [8.000–13.000]  0.129 [0.111–0.144]  0.287 [0.150–0.331] \n",
            "\n",
            "■ Mann-Whitney U検定の結果\n",
            "                U Statistic   p-value\n",
            "Schirmer 1_pre        109.5  0.286789\n",
            "Fluo_5area_pre         46.5  0.001067\n",
            "TM_mm_pre             142.0  0.958072\n",
            "TM_mm_12M             142.5  0.944180\n"
          ]
        }
      ]
    },
    {
      "cell_type": "code",
      "source": [
        "# ❶ Google Drive をマウント\n",
        "from google.colab import drive\n",
        "drive.mount('/content/drive')\n",
        "\n",
        "# ❷ ライブラリのインポート\n",
        "import pandas as pd\n",
        "from scipy.stats import wilcoxon\n",
        "\n",
        "# ❸ Excel ファイルの読み込み\n",
        "file_path = \"/content/drive/Shareddrives/岩崎Dr_IgG4 deulk/涙小管切断術/Canalicular Occlusion.xlsx\"\n",
        "df_all = pd.read_excel(file_path, sheet_name='all')\n",
        "\n",
        "# ❹ 対象とする列\n",
        "columns_of_interest = [\n",
        "    'Schirmer 1_pre', 'Fluo_5area_pre', 'Fluo_5area_3M', 'Fluo_5area_12M',\n",
        "    'Observation periods', 'Recurrent periods',\n",
        "    'TM_mm_pre', 'TM_mm_3M', 'TM_mm_12M'\n",
        "]\n",
        "\n",
        "# ❺ 中央値と四分位範囲（Q1–Q3）の算出\n",
        "summary_stats = df_all[columns_of_interest].describe(percentiles=[.25, .5, .75]).T\n",
        "summary_stats = summary_stats[['25%', '50%', '75%']]\n",
        "summary_stats.columns = ['Q1', 'Median', 'Q3']\n",
        "\n",
        "print(\"■ 中央値 [IQR]\")\n",
        "print(summary_stats.to_string(), \"\\n\")\n",
        "\n",
        "# ❻ Wilcoxon符号付順位検定（術前 vs 術後ペアデータ比較）\n",
        "comparison_pairs = [\n",
        "    ('Fluo_5area_pre', 'Fluo_5area_3M'),\n",
        "    ('Fluo_5area_pre', 'Fluo_5area_12M'),\n",
        "    ('TM_mm_pre', 'TM_mm_3M'),\n",
        "    ('TM_mm_pre', 'TM_mm_12M')\n",
        "]\n",
        "\n",
        "wilcoxon_results = {}\n",
        "for pre, post in comparison_pairs:\n",
        "    paired_data = df_all[[pre, post]].dropna()\n",
        "    stat, p_value = wilcoxon(paired_data[pre], paired_data[post])\n",
        "    wilcoxon_results[f\"{pre} vs {post}\"] = {\n",
        "        'Wilcoxon Statistic': stat,\n",
        "        'p-value': p_value\n",
        "    }\n",
        "\n",
        "# 結果をデータフレームとして表示\n",
        "wilcoxon_df = pd.DataFrame(wilcoxon_results).T\n",
        "print(\"■ Wilcoxon 検定結果（術前 vs 術後）\")\n",
        "print(wilcoxon_df)\n"
      ],
      "metadata": {
        "id": "MMUUWIzWq5bX",
        "outputId": "f6ede039-b6c0-484c-e201-44c40932b627",
        "colab": {
          "base_uri": "https://localhost:8080/"
        }
      },
      "execution_count": 3,
      "outputs": [
        {
          "output_type": "stream",
          "name": "stdout",
          "text": [
            "Drive already mounted at /content/drive; to attempt to forcibly remount, call drive.mount(\"/content/drive\", force_remount=True).\n",
            "■ 中央値 [IQR]\n",
            "                            Q1     Median         Q3\n",
            "Schirmer 1_pre        1.000000   2.000000   3.750000\n",
            "Fluo_5area_pre        7.000000   9.000000  11.750000\n",
            "Fluo_5area_3M         2.000000   3.000000   6.000000\n",
            "Fluo_5area_12M        2.250000   4.000000   8.500000\n",
            "Observation periods  24.500000  29.500000  43.000000\n",
            "Recurrent periods     2.500000   4.000000   5.750000\n",
            "TM_mm_pre             0.098531   0.129426   0.154080\n",
            "TM_mm_3M              0.210000   0.295161   0.325096\n",
            "TM_mm_12M             0.179487   0.265064   0.335503 \n",
            "\n",
            "■ Wilcoxon 検定結果（術前 vs 術後）\n",
            "                                  Wilcoxon Statistic       p-value\n",
            "Fluo_5area_pre vs Fluo_5area_3M                 53.5  8.075045e-05\n",
            "Fluo_5area_pre vs Fluo_5area_12M                49.5  5.669204e-05\n",
            "TM_mm_pre vs TM_mm_3M                            7.0  6.803144e-07\n",
            "TM_mm_pre vs TM_mm_12M                          21.0  2.272654e-06\n"
          ]
        }
      ]
    }
  ]
}